{
  "cells": [
    {
      "cell_type": "code",
      "execution_count": null,
      "metadata": {
        "colab": {
          "base_uri": "https://localhost:8080/"
        },
        "id": "SFykIswIXIhH",
        "outputId": "3cafde9b-de3b-4341-b67f-80b2bb4bcf30"
      },
      "outputs": [
        {
          "name": "stdout",
          "output_type": "stream",
          "text": [
            "Hellow world\n"
          ]
        }
      ],
      "source": [
        "print(\"Hellow world\")"
      ]
    },
    {
      "cell_type": "code",
      "execution_count": null,
      "metadata": {
        "colab": {
          "base_uri": "https://localhost:8080/"
        },
        "id": "kxon0j7NXQv7",
        "outputId": "1e2b5bde-6340-4277-d663-819bf5d76b9d"
      },
      "outputs": [
        {
          "name": "stdout",
          "output_type": "stream",
          "text": [
            "starting\n",
            "hellow world\n",
            "python\n",
            "end\n"
          ]
        }
      ],
      "source": [
        "def fun():\n",
        "  print(\"hellow world\")\n",
        "  print(\"python\")\n",
        "\n",
        "print(\"starting\")\n",
        "fun()\n",
        "print(\"end\")"
      ]
    },
    {
      "cell_type": "code",
      "execution_count": null,
      "metadata": {
        "colab": {
          "base_uri": "https://localhost:8080/"
        },
        "id": "0iiKLxlOX9XQ",
        "outputId": "1077ed72-20b1-4ea2-f3d8-03ffa157c185"
      },
      "outputs": [
        {
          "name": "stdout",
          "output_type": "stream",
          "text": [
            "enter the number5\n",
            "25\n"
          ]
        }
      ],
      "source": [
        "def square():  # without argument and no return value\n",
        "  x = int(input(\"enter the number\"))\n",
        "  print(x*x)\n",
        "\n",
        "square()"
      ]
    },
    {
      "cell_type": "code",
      "execution_count": null,
      "metadata": {
        "colab": {
          "base_uri": "https://localhost:8080/"
        },
        "id": "IILVTKfQZOep",
        "outputId": "4ca0eed5-cb60-4a4e-9e25-92b9e25580c4"
      },
      "outputs": [
        {
          "name": "stdout",
          "output_type": "stream",
          "text": [
            "enter the number20\n",
            "400\n"
          ]
        }
      ],
      "source": [
        "# without argument and return value\n",
        "\n",
        "def square():\n",
        "  x = int(input(\"enter the number\"))\n",
        "  return x*x\n",
        "\n",
        "\n",
        "print(square())"
      ]
    },
    {
      "cell_type": "code",
      "execution_count": null,
      "metadata": {
        "colab": {
          "background_save": true
        },
        "id": "z4kCFLCTaYu6",
        "outputId": "bd9e840f-c84e-47eb-d15f-1b9147b052f8"
      },
      "outputs": [
        {
          "name": "stdout",
          "output_type": "stream",
          "text": [
            "odd\n"
          ]
        }
      ],
      "source": [
        "# with arguments & no return value\n",
        "def oddeven(n):\n",
        "  if n%2==0:\n",
        "    print(\"even\")\n",
        "  else:\n",
        "    print(\"odd\")\n",
        "\n",
        "oddeven(10)"
      ]
    }
  ],
  "metadata": {
    "colab": {
      "provenance": []
    },
    "kernelspec": {
      "display_name": "Python 3",
      "name": "python3"
    },
    "language_info": {
      "name": "python"
    }
  },
  "nbformat": 4,
  "nbformat_minor": 0
}