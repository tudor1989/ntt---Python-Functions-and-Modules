{
  "nbformat": 4,
  "nbformat_minor": 0,
  "metadata": {
    "colab": {
      "provenance": []
    },
    "kernelspec": {
      "name": "python3",
      "display_name": "Python 3"
    },
    "language_info": {
      "name": "python"
    }
  },
  "cells": [
    {
      "cell_type": "code",
      "source": [
        "def fun():\n",
        "  print(\"Hello world!\")\n",
        "  print(\"python\")\n",
        "\n",
        "print(\"starting \")\n",
        "fun()\n",
        "print(\"end\")"
      ],
      "metadata": {
        "id": "-yBxGODoXLA6",
        "outputId": "70fdc55d-3f81-4611-9d6e-ec0360e4a5bc",
        "colab": {
          "base_uri": "https://localhost:8080/"
        }
      },
      "execution_count": 3,
      "outputs": [
        {
          "output_type": "stream",
          "name": "stdout",
          "text": [
            "starting \n",
            "Hello world!\n",
            "python\n",
            "end\n"
          ]
        }
      ]
    },
    {
      "cell_type": "code",
      "source": [
        "def square():    #without argument and no return value\n",
        "  x = int(input(\"Enter a number\"))\n",
        "  print(x*x)\n",
        "\n",
        "square()"
      ],
      "metadata": {
        "id": "zyBJNJzTYAvV",
        "outputId": "30e13878-232b-4e40-f25c-e6d3ee1a3e36",
        "colab": {
          "base_uri": "https://localhost:8080/"
        }
      },
      "execution_count": 4,
      "outputs": [
        {
          "output_type": "stream",
          "name": "stdout",
          "text": [
            "Enter a number5\n",
            "25\n"
          ]
        }
      ]
    },
    {
      "cell_type": "code",
      "source": [
        "#without argument and return value\n",
        "\n",
        "def square():\n",
        "  x = int(input(\"Enter a number\"))\n",
        "  return x*x\n",
        "\n",
        "result = square()\n",
        "print(result)"
      ],
      "metadata": {
        "id": "yu96WpvoYQAA",
        "outputId": "96ebaf6e-0166-418c-b9a0-2c33ccdee521",
        "colab": {
          "base_uri": "https://localhost:8080/"
        }
      },
      "execution_count": 5,
      "outputs": [
        {
          "output_type": "stream",
          "name": "stdout",
          "text": [
            "Enter a number10\n",
            "100\n"
          ]
        }
      ]
    },
    {
      "cell_type": "code",
      "source": [
        "#with argument and no return value\n",
        "\n",
        "def odd_even(n):\n",
        "  if n%2==0:\n",
        "    print(\"even\")\n",
        "  else:\n",
        "    print(\"odd\")\n",
        "\n",
        "odd_even(5)"
      ],
      "metadata": {
        "id": "a6cNrynOabLU",
        "outputId": "be752f35-e612-4c7d-9bd2-01ea509e026f",
        "colab": {
          "base_uri": "https://localhost:8080/"
        }
      },
      "execution_count": 8,
      "outputs": [
        {
          "output_type": "stream",
          "name": "stdout",
          "text": [
            "odd\n"
          ]
        }
      ]
    },
    {
      "cell_type": "code",
      "source": [
        "#with arguments and with return values\n",
        "\n",
        "def square(n):\n",
        "  x = n**2\n",
        "  return x\n",
        "\n",
        "s = square(4)\n",
        "print(s)"
      ],
      "metadata": {
        "id": "mTCBQ-yYa7Jn",
        "outputId": "ead39faf-168f-42b2-9c66-389889a0d6a5",
        "colab": {
          "base_uri": "https://localhost:8080/"
        }
      },
      "execution_count": 9,
      "outputs": [
        {
          "output_type": "stream",
          "name": "stdout",
          "text": [
            "16\n"
          ]
        }
      ]
    },
    {
      "cell_type": "code",
      "source": [
        "#return multiple values\n",
        "\n",
        "def student():\n",
        "  roll = int(input(\"enter roll no \"))\n",
        "  name = input(\"enter name \")\n",
        "  marks = int(input(\"enter marks \"))\n",
        "  return roll , name , marks\n",
        "\n",
        "res = student()\n",
        "print(res)  #returns a single tuple\n",
        "print(type(res))"
      ],
      "metadata": {
        "id": "MR_a9kQddDWU",
        "outputId": "3d24ab15-7227-404a-fb9d-6bf621771525",
        "colab": {
          "base_uri": "https://localhost:8080/"
        }
      },
      "execution_count": 13,
      "outputs": [
        {
          "output_type": "stream",
          "name": "stdout",
          "text": [
            "enter roll no 111\n",
            "enter name Tudor\n",
            "enter marks 14\n",
            "(111, 'Tudor', 14)\n",
            "<class 'tuple'>\n"
          ]
        }
      ]
    },
    {
      "cell_type": "code",
      "source": [
        "# fn calling another function\n",
        "\n",
        "def accept():\n",
        "  print(\"entering accept fn\")\n",
        "  r = int(input(\"enter a no \"))\n",
        "  display(r)\n",
        "  print(\"exit accept fn\")\n",
        "\n",
        "def display(n):\n",
        "  print(\"entering display fn\")\n",
        "  print(\"value is \",n)\n",
        "  print(\"exit display fn\")\n",
        "\n",
        "accept()"
      ],
      "metadata": {
        "id": "lnHi89d2fj3E",
        "outputId": "841df370-8d3e-4799-cb01-870762af93c4",
        "colab": {
          "base_uri": "https://localhost:8080/"
        }
      },
      "execution_count": 14,
      "outputs": [
        {
          "output_type": "stream",
          "name": "stdout",
          "text": [
            "entering accept fn\n",
            "enter a no 5\n",
            "entering display fn\n",
            "value is  5\n",
            "exit display fn\n",
            "exit accept fn\n"
          ]
        }
      ]
    },
    {
      "cell_type": "code",
      "source": [
        "#local & global variable\n",
        "\n",
        "n = 100\n",
        "\n",
        "def fun1():\n",
        "  print(\"start\")\n",
        "  k = 20\n",
        "  print(k)\n",
        "  print(\"end\")\n",
        "\n",
        "fun1()\n",
        "print(\"n=\",n)\n",
        "print(k)"
      ],
      "metadata": {
        "id": "dwYXtqsBgfh2",
        "outputId": "3dc9931c-5ce3-48b9-fd5d-697a6ca47c7e",
        "colab": {
          "base_uri": "https://localhost:8080/",
          "height": 245
        }
      },
      "execution_count": 17,
      "outputs": [
        {
          "output_type": "stream",
          "name": "stdout",
          "text": [
            "start\n",
            "20\n",
            "end\n",
            "n= 100\n"
          ]
        },
        {
          "output_type": "error",
          "ename": "NameError",
          "evalue": "name 'k' is not defined",
          "traceback": [
            "\u001b[0;31m---------------------------------------------------------------------------\u001b[0m",
            "\u001b[0;31mNameError\u001b[0m                                 Traceback (most recent call last)",
            "\u001b[0;32m<ipython-input-17-81bda6196446>\u001b[0m in \u001b[0;36m<cell line: 0>\u001b[0;34m()\u001b[0m\n\u001b[1;32m     11\u001b[0m \u001b[0mfun1\u001b[0m\u001b[0;34m(\u001b[0m\u001b[0;34m)\u001b[0m\u001b[0;34m\u001b[0m\u001b[0;34m\u001b[0m\u001b[0m\n\u001b[1;32m     12\u001b[0m \u001b[0mprint\u001b[0m\u001b[0;34m(\u001b[0m\u001b[0;34m\"n=\"\u001b[0m\u001b[0;34m,\u001b[0m\u001b[0mn\u001b[0m\u001b[0;34m)\u001b[0m\u001b[0;34m\u001b[0m\u001b[0;34m\u001b[0m\u001b[0m\n\u001b[0;32m---> 13\u001b[0;31m \u001b[0mprint\u001b[0m\u001b[0;34m(\u001b[0m\u001b[0mk\u001b[0m\u001b[0;34m)\u001b[0m\u001b[0;34m\u001b[0m\u001b[0;34m\u001b[0m\u001b[0m\n\u001b[0m",
            "\u001b[0;31mNameError\u001b[0m: name 'k' is not defined"
          ]
        }
      ]
    },
    {
      "cell_type": "code",
      "source": [
        "#local & global variable > global keyword\n",
        "\n",
        "n = 100\n",
        "\n",
        "def fun1():\n",
        "  print(\"start\")\n",
        "  global n\n",
        "  n = 20\n",
        "  print(n)\n",
        "  print(\"end\")\n",
        "\n",
        "fun1()\n",
        "print(\"n=\",n)\n"
      ],
      "metadata": {
        "id": "2mA3THnsi8aM",
        "outputId": "27e21122-3963-404a-9830-6c813f63f67f",
        "colab": {
          "base_uri": "https://localhost:8080/"
        }
      },
      "execution_count": 18,
      "outputs": [
        {
          "output_type": "stream",
          "name": "stdout",
          "text": [
            "start\n",
            "20\n",
            "end\n",
            "n= 20\n"
          ]
        }
      ]
    },
    {
      "cell_type": "code",
      "source": [
        "#keyword arguments\n",
        "\n",
        "def add(a,b):\n",
        "  print(\"a=\",a)\n",
        "  print(\"b=\",b)\n",
        "  print(a+b)\n",
        "\n",
        "add(2,3)"
      ],
      "metadata": {
        "id": "noLBUnlXmROv",
        "outputId": "0c68f1ac-e38d-4ec5-bc17-8140ef04410c",
        "colab": {
          "base_uri": "https://localhost:8080/"
        }
      },
      "execution_count": 20,
      "outputs": [
        {
          "output_type": "stream",
          "name": "stdout",
          "text": [
            "a= 2\n",
            "b= 3\n",
            "5\n"
          ]
        }
      ]
    },
    {
      "cell_type": "code",
      "source": [
        "#default arguments\n",
        "\n",
        "def add(a,b=2):\n",
        "  print(\"a=\",a)\n",
        "  print(\"b=\",b)\n",
        "  print(a+b)\n",
        "\n",
        "add(5)"
      ],
      "metadata": {
        "id": "Yy24ykw4m_Us",
        "outputId": "16bfb2f9-9176-4e22-d583-8d15b80ed945",
        "colab": {
          "base_uri": "https://localhost:8080/"
        }
      },
      "execution_count": 21,
      "outputs": [
        {
          "output_type": "stream",
          "name": "stdout",
          "text": [
            "a= 5\n",
            "b= 2\n",
            "7\n"
          ]
        }
      ]
    },
    {
      "cell_type": "code",
      "source": [
        "\n",
        "def fun(*a):\n",
        "  print(a)\n",
        "\n",
        "fun(1,2,3,4)"
      ],
      "metadata": {
        "id": "M9tvXdeen8bh",
        "outputId": "12f73a6c-3881-48b7-8d14-ade51891b4b2",
        "colab": {
          "base_uri": "https://localhost:8080/"
        }
      },
      "execution_count": 22,
      "outputs": [
        {
          "output_type": "stream",
          "name": "stdout",
          "text": [
            "(1, 2, 3, 4)\n"
          ]
        }
      ]
    },
    {
      "cell_type": "code",
      "source": [
        "def fun(*a):\n",
        "  for i in a:\n",
        "    print(i)\n",
        "\n",
        "fun(10,20,30,40,50,60,70)"
      ],
      "metadata": {
        "id": "ar7n6j21oRJt",
        "outputId": "67af2702-cb94-4f6a-99a0-3acfc1281a1f",
        "colab": {
          "base_uri": "https://localhost:8080/"
        }
      },
      "execution_count": 23,
      "outputs": [
        {
          "output_type": "stream",
          "name": "stdout",
          "text": [
            "10\n",
            "20\n",
            "30\n",
            "40\n",
            "50\n",
            "60\n",
            "70\n"
          ]
        }
      ]
    }
  ]
}