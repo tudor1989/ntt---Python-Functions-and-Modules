{
  "nbformat": 4,
  "nbformat_minor": 0,
  "metadata": {
    "colab": {
      "provenance": []
    },
    "kernelspec": {
      "name": "python3",
      "display_name": "Python 3"
    },
    "language_info": {
      "name": "python"
    }
  },
  "cells": [
    {
      "cell_type": "code",
      "source": [
        "def fun():\n",
        "  print(\"Hello world!\")\n",
        "  print(\"python\")\n",
        "\n",
        "print(\"starting \")\n",
        "fun()\n",
        "print(\"end\")"
      ],
      "metadata": {
        "id": "-yBxGODoXLA6",
        "outputId": "ccebbda4-da20-41bd-c399-eb57e09c5aa4",
        "colab": {
          "base_uri": "https://localhost:8080/"
        }
      },
      "execution_count": 1,
      "outputs": [
        {
          "output_type": "stream",
          "name": "stdout",
          "text": [
            "starting \n",
            "Hello world!\n",
            "python\n",
            "end\n"
          ]
        }
      ]
    },
    {
      "cell_type": "code",
      "source": [
        "def square():    #without argument and no return value\n",
        "  x = int(input(\"Enter a number\"))\n",
        "  print(x*x)\n",
        "\n",
        "square()"
      ],
      "metadata": {
        "id": "zyBJNJzTYAvV",
        "outputId": "14538e99-bb54-4f6a-eaaf-2ec0b7974aef",
        "colab": {
          "base_uri": "https://localhost:8080/",
          "height": 321
        }
      },
      "execution_count": 3,
      "outputs": [
        {
          "output_type": "error",
          "ename": "KeyboardInterrupt",
          "evalue": "Interrupted by user",
          "traceback": [
            "\u001b[0;31m---------------------------------------------------------------------------\u001b[0m",
            "\u001b[0;31mKeyboardInterrupt\u001b[0m                         Traceback (most recent call last)",
            "\u001b[0;32m<ipython-input-3-35637caa8ff6>\u001b[0m in \u001b[0;36m<cell line: 0>\u001b[0;34m()\u001b[0m\n\u001b[1;32m      3\u001b[0m   \u001b[0mprint\u001b[0m\u001b[0;34m(\u001b[0m\u001b[0mx\u001b[0m\u001b[0;34m*\u001b[0m\u001b[0mx\u001b[0m\u001b[0;34m)\u001b[0m\u001b[0;34m\u001b[0m\u001b[0;34m\u001b[0m\u001b[0m\n\u001b[1;32m      4\u001b[0m \u001b[0;34m\u001b[0m\u001b[0m\n\u001b[0;32m----> 5\u001b[0;31m \u001b[0msquare\u001b[0m\u001b[0;34m(\u001b[0m\u001b[0;34m)\u001b[0m\u001b[0;34m\u001b[0m\u001b[0;34m\u001b[0m\u001b[0m\n\u001b[0m",
            "\u001b[0;32m<ipython-input-3-35637caa8ff6>\u001b[0m in \u001b[0;36msquare\u001b[0;34m()\u001b[0m\n\u001b[1;32m      1\u001b[0m \u001b[0;32mdef\u001b[0m \u001b[0msquare\u001b[0m\u001b[0;34m(\u001b[0m\u001b[0;34m)\u001b[0m\u001b[0;34m:\u001b[0m    \u001b[0;31m#without argument and no return value\u001b[0m\u001b[0;34m\u001b[0m\u001b[0;34m\u001b[0m\u001b[0m\n\u001b[0;32m----> 2\u001b[0;31m   \u001b[0mx\u001b[0m \u001b[0;34m=\u001b[0m \u001b[0mint\u001b[0m\u001b[0;34m(\u001b[0m\u001b[0minput\u001b[0m\u001b[0;34m(\u001b[0m\u001b[0;34m\"Enter a number\"\u001b[0m\u001b[0;34m)\u001b[0m\u001b[0;34m)\u001b[0m\u001b[0;34m\u001b[0m\u001b[0;34m\u001b[0m\u001b[0m\n\u001b[0m\u001b[1;32m      3\u001b[0m   \u001b[0mprint\u001b[0m\u001b[0;34m(\u001b[0m\u001b[0mx\u001b[0m\u001b[0;34m*\u001b[0m\u001b[0mx\u001b[0m\u001b[0;34m)\u001b[0m\u001b[0;34m\u001b[0m\u001b[0;34m\u001b[0m\u001b[0m\n\u001b[1;32m      4\u001b[0m \u001b[0;34m\u001b[0m\u001b[0m\n\u001b[1;32m      5\u001b[0m \u001b[0msquare\u001b[0m\u001b[0;34m(\u001b[0m\u001b[0;34m)\u001b[0m\u001b[0;34m\u001b[0m\u001b[0;34m\u001b[0m\u001b[0m\n",
            "\u001b[0;32m/usr/local/lib/python3.11/dist-packages/ipykernel/kernelbase.py\u001b[0m in \u001b[0;36mraw_input\u001b[0;34m(self, prompt)\u001b[0m\n\u001b[1;32m    849\u001b[0m                 \u001b[0;34m\"raw_input was called, but this frontend does not support input requests.\"\u001b[0m\u001b[0;34m\u001b[0m\u001b[0;34m\u001b[0m\u001b[0m\n\u001b[1;32m    850\u001b[0m             )\n\u001b[0;32m--> 851\u001b[0;31m         return self._input_request(str(prompt),\n\u001b[0m\u001b[1;32m    852\u001b[0m             \u001b[0mself\u001b[0m\u001b[0;34m.\u001b[0m\u001b[0m_parent_ident\u001b[0m\u001b[0;34m,\u001b[0m\u001b[0;34m\u001b[0m\u001b[0;34m\u001b[0m\u001b[0m\n\u001b[1;32m    853\u001b[0m             \u001b[0mself\u001b[0m\u001b[0;34m.\u001b[0m\u001b[0m_parent_header\u001b[0m\u001b[0;34m,\u001b[0m\u001b[0;34m\u001b[0m\u001b[0;34m\u001b[0m\u001b[0m\n",
            "\u001b[0;32m/usr/local/lib/python3.11/dist-packages/ipykernel/kernelbase.py\u001b[0m in \u001b[0;36m_input_request\u001b[0;34m(self, prompt, ident, parent, password)\u001b[0m\n\u001b[1;32m    893\u001b[0m             \u001b[0;32mexcept\u001b[0m \u001b[0mKeyboardInterrupt\u001b[0m\u001b[0;34m:\u001b[0m\u001b[0;34m\u001b[0m\u001b[0;34m\u001b[0m\u001b[0m\n\u001b[1;32m    894\u001b[0m                 \u001b[0;31m# re-raise KeyboardInterrupt, to truncate traceback\u001b[0m\u001b[0;34m\u001b[0m\u001b[0;34m\u001b[0m\u001b[0m\n\u001b[0;32m--> 895\u001b[0;31m                 \u001b[0;32mraise\u001b[0m \u001b[0mKeyboardInterrupt\u001b[0m\u001b[0;34m(\u001b[0m\u001b[0;34m\"Interrupted by user\"\u001b[0m\u001b[0;34m)\u001b[0m \u001b[0;32mfrom\u001b[0m \u001b[0;32mNone\u001b[0m\u001b[0;34m\u001b[0m\u001b[0;34m\u001b[0m\u001b[0m\n\u001b[0m\u001b[1;32m    896\u001b[0m             \u001b[0;32mexcept\u001b[0m \u001b[0mException\u001b[0m \u001b[0;32mas\u001b[0m \u001b[0me\u001b[0m\u001b[0;34m:\u001b[0m\u001b[0;34m\u001b[0m\u001b[0;34m\u001b[0m\u001b[0m\n\u001b[1;32m    897\u001b[0m                 \u001b[0mself\u001b[0m\u001b[0;34m.\u001b[0m\u001b[0mlog\u001b[0m\u001b[0;34m.\u001b[0m\u001b[0mwarning\u001b[0m\u001b[0;34m(\u001b[0m\u001b[0;34m\"Invalid Message:\"\u001b[0m\u001b[0;34m,\u001b[0m \u001b[0mexc_info\u001b[0m\u001b[0;34m=\u001b[0m\u001b[0;32mTrue\u001b[0m\u001b[0;34m)\u001b[0m\u001b[0;34m\u001b[0m\u001b[0;34m\u001b[0m\u001b[0m\n",
            "\u001b[0;31mKeyboardInterrupt\u001b[0m: Interrupted by user"
          ]
        }
      ]
    },
    {
      "cell_type": "code",
      "source": [
        "#without argument and return value\n",
        "\n",
        "def square():\n",
        "  x = int(input(\"Enter a number\"))\n",
        "  return x*x\n",
        "\n",
        "result = square()\n",
        "print(result)"
      ],
      "metadata": {
        "id": "yu96WpvoYQAA"
      },
      "execution_count": null,
      "outputs": []
    },
    {
      "cell_type": "code",
      "source": [
        "#with argument and no return value\n",
        "\n",
        "def odd_even(n):\n",
        "  if n%2==0:\n",
        "    print(\"even\")\n",
        "  else:\n",
        "    print(\"odd\")\n",
        "\n",
        "odd_even(5)"
      ],
      "metadata": {
        "id": "a6cNrynOabLU"
      },
      "execution_count": null,
      "outputs": []
    },
    {
      "cell_type": "code",
      "source": [
        "#with arguments and with return values\n",
        "\n",
        "def square(n):\n",
        "  x = n**2\n",
        "  return x\n",
        "\n",
        "s = square(4)\n",
        "print(s)"
      ],
      "metadata": {
        "id": "mTCBQ-yYa7Jn"
      },
      "execution_count": null,
      "outputs": []
    },
    {
      "cell_type": "code",
      "source": [
        "#return multiple values\n",
        "\n",
        "def student():\n",
        "  roll = int(input(\"enter roll no \"))\n",
        "  name = input(\"enter name \")\n",
        "  marks = int(input(\"enter marks \"))\n",
        "  return roll , name , marks\n",
        "\n",
        "res = student()\n",
        "print(res)  #returns a single tuple\n",
        "print(type(res))"
      ],
      "metadata": {
        "id": "MR_a9kQddDWU"
      },
      "execution_count": null,
      "outputs": []
    },
    {
      "cell_type": "code",
      "source": [
        "# fn calling another function\n",
        "\n",
        "def accept():\n",
        "  print(\"entering accept fn\")\n",
        "  r = int(input(\"enter a no \"))\n",
        "  display(r)\n",
        "  print(\"exit accept fn\")\n",
        "\n",
        "def display(n):\n",
        "  print(\"entering display fn\")\n",
        "  print(\"value is \",n)\n",
        "  print(\"exit display fn\")\n",
        "\n",
        "accept()"
      ],
      "metadata": {
        "id": "lnHi89d2fj3E"
      },
      "execution_count": null,
      "outputs": []
    },
    {
      "cell_type": "code",
      "source": [
        "#local & global variable\n",
        "\n",
        "n = 100\n",
        "\n",
        "def fun1():\n",
        "  print(\"start\")\n",
        "  k = 20\n",
        "  print(k)\n",
        "  print(\"end\")\n",
        "\n",
        "fun1()\n",
        "print(\"n=\",n)\n",
        "print(k)"
      ],
      "metadata": {
        "id": "dwYXtqsBgfh2"
      },
      "execution_count": null,
      "outputs": []
    },
    {
      "cell_type": "code",
      "source": [
        "#local & global variable > global keyword\n",
        "\n",
        "n = 100\n",
        "\n",
        "def fun1():\n",
        "  print(\"start\")\n",
        "  global n\n",
        "  n = 20\n",
        "  print(n)\n",
        "  print(\"end\")\n",
        "\n",
        "fun1()\n",
        "print(\"n=\",n)\n"
      ],
      "metadata": {
        "id": "2mA3THnsi8aM"
      },
      "execution_count": null,
      "outputs": []
    },
    {
      "cell_type": "code",
      "source": [
        "#keyword arguments\n",
        "\n",
        "def add(a,b):\n",
        "  print(\"a=\",a)\n",
        "  print(\"b=\",b)\n",
        "  print(a+b)\n",
        "\n",
        "add(2,3)"
      ],
      "metadata": {
        "id": "noLBUnlXmROv"
      },
      "execution_count": null,
      "outputs": []
    },
    {
      "cell_type": "code",
      "source": [
        "#default arguments\n",
        "\n",
        "def add(a,b=2):\n",
        "  print(\"a=\",a)\n",
        "  print(\"b=\",b)\n",
        "  print(a+b)\n",
        "\n",
        "add(5)"
      ],
      "metadata": {
        "id": "Yy24ykw4m_Us"
      },
      "execution_count": null,
      "outputs": []
    },
    {
      "cell_type": "code",
      "source": [
        "\n",
        "def fun(*a):\n",
        "  print(a)\n",
        "\n",
        "fun(1,2,3,4)"
      ],
      "metadata": {
        "id": "M9tvXdeen8bh"
      },
      "execution_count": null,
      "outputs": []
    },
    {
      "cell_type": "code",
      "source": [
        "def fun(*a):\n",
        "  for i in a:\n",
        "    print(i)\n",
        "\n",
        "fun(10,20,30,40,50,60,70)"
      ],
      "metadata": {
        "id": "ar7n6j21oRJt"
      },
      "execution_count": null,
      "outputs": []
    },
    {
      "cell_type": "code",
      "source": [
        "#lambda function\n",
        "\n",
        "var = lambda x,y : x*y\n",
        "\n",
        "res = var (6,7)\n",
        "print(res)"
      ],
      "metadata": {
        "id": "pgem8VWUeChn",
        "outputId": "cf25dfe5-5fce-49ce-8dfe-7f1646a97bf5",
        "colab": {
          "base_uri": "https://localhost:8080/"
        }
      },
      "execution_count": 4,
      "outputs": [
        {
          "output_type": "stream",
          "name": "stdout",
          "text": [
            "42\n"
          ]
        }
      ]
    },
    {
      "cell_type": "code",
      "source": [
        "z = 10\n",
        "var = lambda x,y : x*y*z\n",
        "\n",
        "res = var (6,7)\n",
        "print(res)"
      ],
      "metadata": {
        "id": "szqA1GHqfTku",
        "outputId": "9dae0c17-25f8-4cee-f799-619cb61dd83b",
        "colab": {
          "base_uri": "https://localhost:8080/"
        }
      },
      "execution_count": 7,
      "outputs": [
        {
          "output_type": "stream",
          "name": "stdout",
          "text": [
            "420\n"
          ]
        }
      ]
    },
    {
      "cell_type": "code",
      "source": [
        "#lambda function to find area of circle\n",
        "\n",
        "area = lambda r : 3.14*r*r\n",
        "\n",
        "res = area(6)\n",
        "print(res)"
      ],
      "metadata": {
        "id": "msTAXrvwejuA",
        "outputId": "04a2c2af-af42-4faa-c9a9-6bcf1385dc0f",
        "colab": {
          "base_uri": "https://localhost:8080/"
        }
      },
      "execution_count": 6,
      "outputs": [
        {
          "output_type": "stream",
          "name": "stdout",
          "text": [
            "113.03999999999999\n"
          ]
        }
      ]
    },
    {
      "cell_type": "code",
      "source": [
        "def add():\n",
        "  \"\"\"This fn is to add 2 nos\n",
        "  and its a useful fn\"\"\"\n",
        "  a=4\n",
        "  b=5\n",
        "  print(a+b)\n",
        "\n",
        "add()\n",
        "print(add.__doc__)"
      ],
      "metadata": {
        "id": "pfW5YX2QgeiH",
        "outputId": "d589455e-3d12-43a8-d884-a58deed7f230",
        "colab": {
          "base_uri": "https://localhost:8080/"
        }
      },
      "execution_count": 9,
      "outputs": [
        {
          "output_type": "stream",
          "name": "stdout",
          "text": [
            "9\n",
            "This fn is to add 2 nos\n",
            "  and its a useful fn\n"
          ]
        }
      ]
    },
    {
      "cell_type": "code",
      "source": [
        "#doc string for ibuild gn\n",
        "print(len.__doc__)"
      ],
      "metadata": {
        "id": "WSst08IDg0RD",
        "outputId": "c0fc8a97-face-4bbd-eaf6-6ee33761868a",
        "colab": {
          "base_uri": "https://localhost:8080/"
        }
      },
      "execution_count": 10,
      "outputs": [
        {
          "output_type": "stream",
          "name": "stdout",
          "text": [
            "Return the number of items in a container.\n"
          ]
        }
      ]
    },
    {
      "cell_type": "code",
      "source": [
        "import math\n",
        "\n",
        "print(math.sqrt.__doc__)"
      ],
      "metadata": {
        "id": "4TioUU1Hg-rP",
        "outputId": "65c24c62-1475-406f-e9bb-93f529cd050c",
        "colab": {
          "base_uri": "https://localhost:8080/"
        }
      },
      "execution_count": 11,
      "outputs": [
        {
          "output_type": "stream",
          "name": "stdout",
          "text": [
            "Return the square root of x.\n"
          ]
        }
      ]
    },
    {
      "cell_type": "code",
      "source": [
        "import mymodule\n",
        "\n",
        "mymodule.add(1,2)"
      ],
      "metadata": {
        "id": "s5GZ1MO3jaik",
        "outputId": "4d8ffca3-3e2c-47ac-96cf-9b0303f8c7fd",
        "colab": {
          "base_uri": "https://localhost:8080/"
        }
      },
      "execution_count": 14,
      "outputs": [
        {
          "output_type": "execute_result",
          "data": {
            "text/plain": [
              "3"
            ]
          },
          "metadata": {},
          "execution_count": 14
        }
      ]
    }
  ]
}