{
  "nbformat": 4,
  "nbformat_minor": 0,
  "metadata": {
    "colab": {
      "provenance": []
    },
    "kernelspec": {
      "name": "python3",
      "display_name": "Python 3"
    },
    "language_info": {
      "name": "python"
    }
  },
  "cells": [
    {
      "cell_type": "code",
      "execution_count": null,
      "metadata": {
        "colab": {
          "base_uri": "https://localhost:8080/"
        },
        "id": "gxL17zFgX3BE",
        "outputId": "7834e453-fdc3-4d87-944a-0c38bae0c0e9"
      },
      "outputs": [
        {
          "output_type": "stream",
          "name": "stdout",
          "text": [
            "420\n"
          ]
        }
      ],
      "source": [
        "#lambda\n",
        "z=10\n",
        "var = lambda x,y : x*y*z\n",
        "\n",
        "res = var(6,7)\n",
        "print(res)"
      ]
    },
    {
      "cell_type": "code",
      "source": [],
      "metadata": {
        "id": "HOMOo1YNgR93"
      },
      "execution_count": null,
      "outputs": []
    },
    {
      "cell_type": "code",
      "source": [
        "#lambda fn to find area of circle\n",
        "\n",
        "area = lambda r : 3.14*r*r\n",
        "\n",
        "res =area(6)\n",
        "print(res)"
      ],
      "metadata": {
        "colab": {
          "base_uri": "https://localhost:8080/"
        },
        "id": "j1RyTdyzefnN",
        "outputId": "0afc25f8-9c52-4367-bba1-9911e3247a5c"
      },
      "execution_count": null,
      "outputs": [
        {
          "output_type": "stream",
          "name": "stdout",
          "text": [
            "113.03999999999999\n"
          ]
        }
      ]
    },
    {
      "cell_type": "code",
      "source": [
        "def add():\n",
        "  \"\"\"This fn is to add 2 nos\n",
        "  and its a useful fn\"\"\"\n",
        "  a=4\n",
        "  b=5\n",
        "  print(a+b)\n",
        "\n",
        "\n",
        "add()\n",
        "print(add.__doc__)"
      ],
      "metadata": {
        "colab": {
          "base_uri": "https://localhost:8080/"
        },
        "id": "hcVq804NgSy2",
        "outputId": "df1d3057-89e0-4741-b86d-f264ac9bbbc0"
      },
      "execution_count": null,
      "outputs": [
        {
          "output_type": "stream",
          "name": "stdout",
          "text": [
            "9\n",
            "This fn is to add 2 nos\n",
            "  and its a useful fn\n"
          ]
        }
      ]
    },
    {
      "cell_type": "code",
      "source": [
        "#doc string for inbuild gn\n",
        "print(len.__doc__)"
      ],
      "metadata": {
        "colab": {
          "base_uri": "https://localhost:8080/"
        },
        "id": "hd-yNNIwgukV",
        "outputId": "09ffd9fa-813d-45ea-da2c-3c2d2c196652"
      },
      "execution_count": null,
      "outputs": [
        {
          "output_type": "stream",
          "name": "stdout",
          "text": [
            "Return the number of items in a container.\n"
          ]
        }
      ]
    },
    {
      "cell_type": "code",
      "source": [
        "import math\n",
        "print(math.sqrt.__doc__)"
      ],
      "metadata": {
        "colab": {
          "base_uri": "https://localhost:8080/"
        },
        "id": "QDZaFk3Wg5fk",
        "outputId": "580bd40b-a202-4424-b19c-a905c5c302b7"
      },
      "execution_count": null,
      "outputs": [
        {
          "output_type": "stream",
          "name": "stdout",
          "text": [
            "Return the square root of x.\n"
          ]
        }
      ]
    },
    {
      "cell_type": "code",
      "source": [
        "import modd\n",
        "modd.mul(3,4)\n",
        "\n",
        "\n",
        "\n"
      ],
      "metadata": {
        "colab": {
          "base_uri": "https://localhost:8080/"
        },
        "id": "gPO6sSXrjW2W",
        "outputId": "4749e330-919b-4e29-d705-e49f152fc9a4"
      },
      "execution_count": null,
      "outputs": [
        {
          "output_type": "execute_result",
          "data": {
            "text/plain": [
              "12"
            ]
          },
          "metadata": {},
          "execution_count": 19
        }
      ]
    }
  ]
}